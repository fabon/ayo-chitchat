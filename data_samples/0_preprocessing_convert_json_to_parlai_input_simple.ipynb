{
 "cells": [
  {
   "cell_type": "code",
   "execution_count": 1,
   "metadata": {},
   "outputs": [],
   "source": [
    "import json\n",
    "import numpy as np"
   ]
  },
  {
   "cell_type": "code",
   "execution_count": 2,
   "metadata": {},
   "outputs": [
    {
     "output_type": "execute_result",
     "data": {
      "text/plain": [
       "['How would you store sentimental clothing?',\n",
       " \"Thank you for sharing. I have some of my mom's clothes and I want to preserve it in good condition.\",\n",
       " 'How would you store sentimental clothing?',\n",
       " 'How would you store sentimental clothing?',\n",
       " 'I’m getting married this year so I’m curious. How? Isn’t plastic bad for storing wedding dresses (and basically most materials)? Can you vacuum seal in other material bags?',\n",
       " 'How would you store sentimental clothing?',\n",
       " 'How would you store sentimental clothing?',\n",
       " 'How would you store sentimental clothing?',\n",
       " 'How would you store sentimental clothing?',\n",
       " 'How would you store sentimental clothing?',\n",
       " 'How would you store sentimental clothing?']"
      ]
     },
     "metadata": {},
     "execution_count": 2
    }
   ],
   "source": [
    "episode_texts = []\n",
    "episode_labels = []\n",
    "episode_dones = []\n",
    "\n",
    "with open('reddit_female.json') as json_file:\n",
    "    data = json.load(json_file)\n",
    "    for submission in data:\n",
    "        episode_text = []\n",
    "        episode_label = []\n",
    "        episode_done = []\n",
    "        \n",
    "        title = submission['title']\n",
    "        \n",
    "        for comment in submission['comments']:\n",
    "            comment_body = comment['body']\n",
    "            \n",
    "            if len(comment['replies']) == 0:\n",
    "                episode_text.append(title)\n",
    "                episode_label.append(comment_body)\n",
    "                episode_done.append(True)\n",
    "                \n",
    "            for reply in comment['replies']:\n",
    "                if len(reply['replies']) == 0:\n",
    "                    episode_text.append(title)\n",
    "                    episode_label.append(comment_body)\n",
    "                    episode_done.append(False)\n",
    "                    episode_text.append(reply['body'])\n",
    "                    episode_label.append('')\n",
    "                    episode_done.append(True)\n",
    "                for reply2 in reply['replies']:\n",
    "                    episode_text.append(title)\n",
    "                    episode_label.append(comment_body)\n",
    "                    episode_done.append(False)\n",
    "                    episode_text.append(reply['body'])\n",
    "                    episode_label.append(reply2['body'])\n",
    "                    episode_done.append(True)\n",
    "        episode_texts.append(episode_text)\n",
    "        episode_labels.append(episode_label)\n",
    "        episode_dones.append(episode_done)\n",
    "\n",
    "episode_texts[0]\n",
    "# episode_dones[0]"
   ]
  },
  {
   "cell_type": "code",
   "execution_count": 3,
   "metadata": {},
   "outputs": [],
   "source": [
    "import pandas as pd"
   ]
  },
  {
   "cell_type": "code",
   "execution_count": 4,
   "metadata": {},
   "outputs": [],
   "source": [
    "rows = pd.DataFrame()"
   ]
  },
  {
   "cell_type": "code",
   "execution_count": 5,
   "metadata": {},
   "outputs": [],
   "source": [
    "flat_texts = [item for sublist in episode_texts for item in sublist]\n",
    "flat_labels = [item for sublist in episode_labels for item in sublist]\n",
    "flat_dones = [item for sublist in episode_dones for item in sublist]"
   ]
  },
  {
   "cell_type": "code",
   "execution_count": 6,
   "metadata": {},
   "outputs": [],
   "source": [
    "rows['texts'] = flat_texts\n",
    "rows['labels'] = flat_labels\n",
    "rows['dones'] = flat_dones"
   ]
  },
  {
   "cell_type": "code",
   "execution_count": 7,
   "metadata": {},
   "outputs": [],
   "source": [
    "#rows[0:100].to_csv('episodes.csv')"
   ]
  },
  {
   "cell_type": "code",
   "execution_count": 8,
   "metadata": {},
   "outputs": [],
   "source": [
    "with open('output_parlai.txt', 'w') as f:\n",
    "    for idx, row in rows.iterrows():\n",
    "        t = (\"text:{}\\tlabels:{}\").format(row['texts'].replace('\\n', ' '), row['labels'].replace('\\n', ' '))\n",
    "        if row['dones'] == True:\n",
    "            t = t + '\\tepisode_done:True\\n'\n",
    "        else:\n",
    "            t = t + '\\n'\n",
    "        f.write(\"%s\" % t)"
   ]
  },
  {
   "cell_type": "code",
   "execution_count": null,
   "metadata": {},
   "outputs": [],
   "source": []
  }
 ],
 "metadata": {
  "kernelspec": {
   "display_name": "Python 3",
   "language": "python",
   "name": "python3"
  },
  "language_info": {
   "codemirror_mode": {
    "name": "ipython",
    "version": 3
   },
   "file_extension": ".py",
   "mimetype": "text/x-python",
   "name": "python",
   "nbconvert_exporter": "python",
   "pygments_lexer": "ipython3",
   "version": "3.7.6-final"
  }
 },
 "nbformat": 4,
 "nbformat_minor": 4
}