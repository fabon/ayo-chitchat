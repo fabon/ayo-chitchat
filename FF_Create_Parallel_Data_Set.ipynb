{
  "nbformat": 4,
  "nbformat_minor": 0,
  "metadata": {
    "colab": {
      "name": "Create_Parallel_Data_Set.ipynb",
      "provenance": [],
      "collapsed_sections": []
    },
    "kernelspec": {
      "name": "python3",
      "display_name": "Python 3"
    }
  },
  "cells": [
    {
      "cell_type": "markdown",
      "metadata": {
        "id": "Kedlt_E6piw2"
      },
      "source": [
        "Input filter parameters\n"
      ]
    },
    {
      "cell_type": "code",
      "metadata": {
        "id": "mOo3_ovSppE5"
      },
      "source": [
        "BPE_token_limit=128\n",
        "Text_Min_Len=5\n",
        "Text_Max_Len=2048\n",
        "Check_For_URL=False\n",
        "Check_For_Text_Len=False\n",
        "Check_For_ASCII=False\n",
        "Check_For_Deleted=False\n",
        "Check_For_BPE=False"
      ],
      "execution_count": 31,
      "outputs": []
    },
    {
      "cell_type": "markdown",
      "metadata": {
        "id": "ERtHOIXstND4"
      },
      "source": [
        "importing libraries"
      ]
    },
    {
      "cell_type": "code",
      "metadata": {
        "id": "YorECuDSz0DK"
      },
      "source": [
        "import json\n",
        "import numpy as np\n",
        "import re \n",
        "from collections import Counter, defaultdict\n"
      ],
      "execution_count": 32,
      "outputs": []
    },
    {
      "cell_type": "markdown",
      "metadata": {
        "id": "I_R7BS61tT7a"
      },
      "source": [
        "Create URL filter\n"
      ]
    },
    {
      "cell_type": "code",
      "metadata": {
        "id": "AeXkXHbUtXEr"
      },
      "source": [
        "def CheckNoURL(string): \n",
        "    # findall() has been used  \n",
        "    # with valid conditions for urls in string \n",
        "    #regex = r\"(?i)\\b((?:https?://|www\\d{0,3}[.]|[a-z0-9.\\-]+[.][a-z]{2,4}/)(?:[^\\s()<>]+|\\(([^\\s()<>]+|(\\([^\\s()<>]+\\)))*\\))+(?:\\(([^\\s()<>]+|(\\([^\\s()<>]+\\)))*\\)|[^\\s`!()\\[\\]{};:'\\\".,<>?«»“”‘’]))\"\n",
        "    #url = re.findall(regex,string) \n",
        "    return ('http' in string) or ('https' in string) or ('www' in string)"
      ],
      "execution_count": 33,
      "outputs": []
    },
    {
      "cell_type": "markdown",
      "metadata": {
        "id": "5GdVgXAOiGVd"
      },
      "source": [
        "Create BPE token filter"
      ]
    },
    {
      "cell_type": "code",
      "metadata": {
        "id": "T8ngKBOqcPWU"
      },
      "source": [
        "def build_vocab(corpus: str) -> dict:\n",
        "    \"\"\"Step 1. Build vocab from text corpus\"\"\"\n",
        "\n",
        "    # Separate each char in word by space and add mark end of token\n",
        "    tokens = [\" \".join(word) + \" </w>\" for word in corpus.split()]\n",
        "    \n",
        "    # Count frequency of tokens in corpus\n",
        "    vocab = Counter(tokens)  \n",
        "\n",
        "    return vocab\n",
        "\n",
        "\n",
        "def get_stats(vocab: dict) -> dict:\n",
        "    \"\"\"Step 2. Get counts of pairs of consecutive symbols\"\"\"\n",
        "\n",
        "    pairs = defaultdict(int)\n",
        "    for word, frequency in vocab.items():\n",
        "        symbols = word.split()\n",
        "\n",
        "        # Counting up occurrences of pairs\n",
        "        for i in range(len(symbols) - 1):\n",
        "            pairs[symbols[i], symbols[i + 1]] += frequency\n",
        "\n",
        "    return pairs\n",
        "\n",
        "\n",
        "def merge_vocab(pair: tuple, v_in: dict) -> dict:\n",
        "    \"\"\"Step 3. Merge all occurrences of the most frequent pair\"\"\"\n",
        "    \n",
        "    v_out = {}\n",
        "    bigram = re.escape(' '.join(pair))\n",
        "    p = re.compile(r'(?<!\\S)' + bigram + r'(?!\\S)')\n",
        "    \n",
        "    for word in v_in:\n",
        "        # replace most frequent pair in all vocabulary\n",
        "        w_out = p.sub(''.join(pair), word)\n",
        "        v_out[w_out] = v_in[word]\n",
        "\n",
        "    return v_out\n",
        "\n",
        "def GetBPETokens(input_txt):\n",
        " try:\n",
        "   vocab = build_vocab(input_txt)  # Step 1\n",
        "   num_merges = 40  # Hyperparameter\n",
        "   for i in range(num_merges):\n",
        "    pairs = get_stats(vocab)  # Step 2\n",
        "    if not pairs:\n",
        "        break\n",
        "    # step 3\n",
        "    best = max(pairs, key=pairs.get)\n",
        "    vocab = merge_vocab(best, vocab)\n",
        "   return (len(vocab)>BPE_token_limit)\n",
        " except:\n",
        "    return False\n"
      ],
      "execution_count": 34,
      "outputs": []
    },
    {
      "cell_type": "markdown",
      "metadata": {
        "id": "TXUsCJCgqHPA"
      },
      "source": [
        "Create text length constrain filter"
      ]
    },
    {
      "cell_type": "code",
      "metadata": {
        "id": "V1_6-sNBqNom"
      },
      "source": [
        "def TextLenFilter(input_text):\n",
        "  if len(input_text)>Text_Max_Len or len(input_text)<Text_Min_Len:\n",
        "     return True\n",
        "  else:\n",
        "     return False"
      ],
      "execution_count": 35,
      "outputs": []
    },
    {
      "cell_type": "markdown",
      "metadata": {
        "id": "FN_uWKiCrfgs"
      },
      "source": [
        "Create ASCII checker"
      ]
    },
    {
      "cell_type": "code",
      "metadata": {
        "id": "t-5bxa43krQc"
      },
      "source": [
        "def CheckForASCII(input_text):\n",
        "  if input_text.isascii():\n",
        "     return False\n",
        "  else:\n",
        "     return True\n"
      ],
      "execution_count": 36,
      "outputs": []
    },
    {
      "cell_type": "markdown",
      "metadata": {
        "id": "VsIRtIz2sR8w"
      },
      "source": [
        "Check for deleted comments\n"
      ]
    },
    {
      "cell_type": "code",
      "metadata": {
        "id": "qzXc1IMjsVA4"
      },
      "source": [
        "def CheckForDelete(input_text):\n",
        "  if input_text in ('[deleted]','[removed]'):\n",
        "     return True\n",
        "  else:\n",
        "     return False"
      ],
      "execution_count": 37,
      "outputs": []
    },
    {
      "cell_type": "markdown",
      "metadata": {
        "id": "L8SAi9L8sxIa"
      },
      "source": [
        "All filters combined\n"
      ]
    },
    {
      "cell_type": "code",
      "metadata": {
        "id": "85DYX9vatkfr"
      },
      "source": [
        "def FiltTxt(input_text):\n",
        "  if Check_For_Deleted and CheckForDelete(input_text):\n",
        "    return False\n",
        "  if Check_For_ASCII and CheckForASCII(input_text):\n",
        "    return False\n",
        "  if Check_For_Text_Len and TextLenFilter(input_text):\n",
        "    return False\n",
        "  if Check_For_URL and CheckNoURL(input_text):\n",
        "    return False\n",
        "  if Check_For_BPE and GetBPETokens(input_text):\n",
        "    return False\n",
        "  return True"
      ],
      "execution_count": 38,
      "outputs": []
    },
    {
      "cell_type": "markdown",
      "metadata": {
        "id": "V-EUgegQyUhe"
      },
      "source": [
        "Start filtering\n"
      ]
    },
    {
      "cell_type": "code",
      "metadata": {
        "id": "955ls4Wc1klp"
      },
      "source": [
        "episode_texts = []\n",
        "episode_labels = []\n",
        "episode_dones = []\n",
        "with open('reddit_female.json') as json_file:\n",
        "    data = json.load(json_file)\n",
        "    for submission in data:\n",
        "        if len(submission['comments']) == 0:\n",
        "           continue\n",
        "        else:\n",
        "### Enter Level 1\n",
        "          episode_text = []\n",
        "          episode_label = []\n",
        "          episode_done = []   \n",
        "          title = submission['title']\n",
        "          for comment in submission['comments']:\n",
        "              comment_body = comment['body']\n",
        "              if FiltTxt(comment['body']):  \n",
        "                if len(comment['replies']) == 0:\n",
        "                   episode_text.append(title)\n",
        "                   episode_label.append(comment_body)\n",
        "                   episode_done.append(True)\n",
        "                else:\n",
        "### Enter level 2\n",
        "                   for reply in comment['replies']:\n",
        "                       if FiltTxt(reply['body']):\n",
        "                          if len(reply['replies']) == 0:\n",
        "                             episode_text.append(title)\n",
        "                             episode_label.append(comment_body)\n",
        "                             episode_done.append(False)\n",
        "                             episode_text.append(reply['body'])\n",
        "                             episode_label.append('')\n",
        "                             episode_done.append(True)\n",
        "                          else:\n",
        "### Enter level 3          \n",
        "                            for reply1 in reply['replies']:\n",
        "                                if FiltTxt(reply1['body']):\n",
        "                                   if len(reply1['replies']) == 0:\n",
        "                                      episode_text.append(title)\n",
        "                                      episode_label.append(comment_body)\n",
        "                                      episode_done.append(False)\n",
        "                                      episode_text.append(reply['body'])\n",
        "                                      episode_label.append(reply1['body'])\n",
        "                                      episode_done.append(True) \n",
        "                                   else:\n",
        "### Enter level 4                       \n",
        "                                     for reply2 in reply1['replies']:\n",
        "                                        if FiltTxt(reply2['body']):\n",
        "                                          if len(reply2['replies']) == 0:\n",
        "                                              episode_text.append(title)\n",
        "                                              episode_label.append(comment_body)\n",
        "                                              episode_done.append(False)\n",
        "                                              episode_text.append(reply['body'])\n",
        "                                              episode_label.append(reply1['body'])\n",
        "                                              episode_done.append(False)\n",
        "                                              episode_text.append(reply2['body'])\n",
        "                                              episode_label.append('')\n",
        "                                              episode_done.append(True) \n",
        "                                          else:\n",
        "### Enter level 5                             \n",
        "                                           for reply3 in reply2['replies']:\n",
        "                                               if FiltTxt(reply3['body']):\n",
        "                                                   if len(reply3['replies']) == 0:\n",
        "                                                      episode_text.append(title)\n",
        "                                                      episode_label.append(comment_body)\n",
        "                                                      episode_done.append(False)\n",
        "                                                      episode_text.append(reply['body'])\n",
        "                                                      episode_label.append(reply1['body'])\n",
        "                                                      episode_done.append(False)\n",
        "                                                      episode_text.append(reply2['body'])\n",
        "                                                      episode_label.append(reply3['body'])\n",
        "                                                      episode_done.append(True) \n",
        "                                                   else:\n",
        "### Enter level 6                                       \n",
        "                                                    for reply4 in reply3['replies']:\n",
        "                                                     if FiltTxt(reply4['body']):\n",
        "                                                        if len(reply4['replies']) == 0:\n",
        "                                                           episode_text.append(title)\n",
        "                                                           episode_label.append(comment_body)\n",
        "                                                           episode_done.append(False)\n",
        "                                                           episode_text.append(reply['body'])\n",
        "                                                           episode_label.append(reply1['body'])\n",
        "                                                           episode_done.append(False)\n",
        "                                                           episode_text.append(reply2['body'])\n",
        "                                                           episode_label.append(reply3['body'])\n",
        "                                                           episode_done.append(False)\n",
        "                                                           episode_text.append(reply4['body'])\n",
        "                                                           episode_label.append('')\n",
        "                                                           episode_done.append(True) \n",
        "                                                        else:\n",
        "### Enter level 7                                       \n",
        "                                                           for reply5 in reply4['replies']:\n",
        "                                                               if FiltTxt(reply5['body']):\n",
        "                                                                     episode_text.append(title)\n",
        "                                                                     episode_label.append(comment_body)\n",
        "                                                                     episode_done.append(False)\n",
        "                                                                     episode_text.append(reply['body'])\n",
        "                                                                     episode_label.append(reply1['body'])\n",
        "                                                                     episode_done.append(False)\n",
        "                                                                     episode_text.append(reply2['body'])\n",
        "                                                                     episode_label.append(reply3['body'])\n",
        "                                                                     episode_done.append(False)\n",
        "                                                                     episode_text.append(reply4['body'])\n",
        "                                                                     episode_label.append(reply5['body'])\n",
        "                                                                     episode_done.append(True)\n",
        "                                                               else:\n",
        "                                                                  continue\n",
        "                                                     else:\n",
        "                                                         continue              \n",
        "                                               else:\n",
        "                                                  continue             \n",
        "                                        else:\n",
        "                                              continue                \n",
        "                                else:\n",
        "                                   continue\n",
        "                       else:\n",
        "                         continue\n",
        "\n",
        "\n",
        "\n",
        "              else:\n",
        "                continue\n",
        "          episode_texts.append(episode_text)\n",
        "          episode_labels.append(episode_label)\n",
        "          episode_dones.append(episode_done)"
      ],
      "execution_count": 39,
      "outputs": []
    },
    {
      "cell_type": "code",
      "metadata": {
        "id": "E3_CkiQ-1qLw"
      },
      "source": [
        "import pandas as pd"
      ],
      "execution_count": 41,
      "outputs": []
    },
    {
      "cell_type": "code",
      "metadata": {
        "id": "GbXNHflPgC0T"
      },
      "source": [
        "from google.colab import drive\n",
        "drive.mount('/content/drive')"
      ],
      "execution_count": null,
      "outputs": []
    },
    {
      "cell_type": "code",
      "metadata": {
        "id": "p_ztcqtP1s6G"
      },
      "source": [
        "rows = pd.DataFrame()"
      ],
      "execution_count": 42,
      "outputs": []
    },
    {
      "cell_type": "code",
      "metadata": {
        "id": "UWnsx2S-1vps"
      },
      "source": [
        "flat_texts = [item for sublist in episode_texts for item in sublist]\n",
        "flat_labels = [item for sublist in episode_labels for item in sublist]\n",
        "flat_dones = [item for sublist in episode_dones for item in sublist]"
      ],
      "execution_count": 43,
      "outputs": []
    },
    {
      "cell_type": "code",
      "metadata": {
        "id": "GFwjXPJP1z4n"
      },
      "source": [
        "rows['texts'] = flat_texts\n",
        "rows['labels'] = flat_labels\n",
        "rows['dones'] = flat_dones"
      ],
      "execution_count": 44,
      "outputs": []
    },
    {
      "cell_type": "code",
      "metadata": {
        "id": "9weKSxHH13mi"
      },
      "source": [
        "with open('output_parlai_female.txt', 'w') as f:\n",
        "    for idx, row in rows.iterrows():\n",
        "        t = (\"text:{}\\tlabels:{}\").format(row['texts'].replace('\\n', ' '), row['labels'].replace('\\n', ' '))\n",
        "        if row['dones'] == True:\n",
        "            t = t + '\\tepisode_done:True\\n'\n",
        "        else:\n",
        "            t = t + '\\n'\n",
        "        f.write(\"%s\" % t)"
      ],
      "execution_count": 45,
      "outputs": []
    }
  ]
}