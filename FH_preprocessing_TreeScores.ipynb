{
 "cells": [
  {
   "cell_type": "code",
   "execution_count": 2,
   "metadata": {},
   "outputs": [],
   "source": [
    "import json\n",
    "import numpy as np\n",
    "import pdb\n",
    "import re\n",
    "from anytree import NodeMixin, RenderTree, PreOrderIter\n",
    "\n",
    "with open('data_samples/reddit_female.json') as json_file:\n",
    "    data = json.load(json_file)\n"
   ]
  },
  {
   "cell_type": "code",
   "execution_count": 3,
   "metadata": {},
   "outputs": [],
   "source": [
    "# NodeMixin class: extends any python class to a tree node\n",
    "\n",
    "class WNode(NodeMixin):\n",
    "\n",
    "     def __init__(self, foo, weight, parent=None):\n",
    "         super(WNode, self).__init__()\n",
    "         self.foo = foo\n",
    "         self.parent = parent\n",
    "         self.weight = weight\n",
    "\n",
    "     def _post_detach(self, parent):\n",
    "         self.weight = 0\n"
   ]
  },
  {
   "cell_type": "code",
   "execution_count": 4,
   "metadata": {},
   "outputs": [],
   "source": [
    "# Recursive function to populate deeper reply levels\n",
    "\n",
    "def NextLevel(replies, node_reply):\n",
    "    if len(replies['replies'])>0:\n",
    "        # Sort replies2\n",
    "        score_list = []\n",
    "        for replies2 in replies['replies']:\n",
    "            score_list.append(replies2['score'])\n",
    "        ZipList = zip(score_list, replies['replies'])\n",
    "        replies_sorted = [x for _, x in sorted(ZipList, key=lambda pair: pair[0], reverse=True)] \n",
    "        # For each replies2 in sorted replies2\n",
    "        for replies2 in replies_sorted:\n",
    "            # Create node at replies-replies2\n",
    "            node_replies2 = WNode(replies2['body'], parent=node_reply, weight=replies2['score'])\n",
    "            # call NextLevel(replies2, node_replies2)\n",
    "            NextLevel(replies2, node_replies2)\n"
   ]
  },
  {
   "cell_type": "code",
   "execution_count": 5,
   "metadata": {},
   "outputs": [],
   "source": [
    "# Building ordered tree given a submission\n",
    "\n",
    "def BuildTree(submission):\n",
    "    title = submission['title']\n",
    "    r = WNode(title, submission['score'])\n",
    "\n",
    "    # Extracting Comments (Depth=0)\n",
    "    score_list = []\n",
    "    for comments in submission['comments']: # Ordering Comments\n",
    "        score_list.append(comments['score'])\n",
    "    ZipList = zip(score_list, submission['comments'])\n",
    "    comments_sorted = [x for _, x in sorted(ZipList, key=lambda pair: pair[0], reverse=True)] \n",
    "    # Test: Scaling Scores to Max\n",
    "    # if len(score_list)>0:\n",
    "    #     score_max = max(score_list)\n",
    "    # else:\n",
    "        # score_max = 1\n",
    "    # score_max = 1\n",
    "    \n",
    "    for comments in comments_sorted:  # Creating sorted Comment-Nodes\n",
    "        node_comment = WNode(comments['body'], parent=r, weight=comments['score'])\n",
    "\n",
    "        # Extracting replies (Depth=1)\n",
    "        score_list = []\n",
    "        for replies in comments['replies']:\n",
    "            score_list.append(replies['score'])\n",
    "        ZipList = zip(score_list, comments['replies'])\n",
    "        replies_sorted = [x for _, x in sorted(ZipList, key=lambda pair: pair[0], reverse=True)] \n",
    "\n",
    "        for replies in replies_sorted:  # Creating sorted Reply-Nodes\n",
    "            node_reply = WNode(replies['body'], parent=node_comment, weight=replies['score'])\n",
    "            NextLevel(replies, node_reply)\n",
    "        \n",
    "    # Returning ordered tree        \n",
    "    return r\n"
   ]
  },
  {
   "cell_type": "code",
   "execution_count": 6,
   "metadata": {},
   "outputs": [
    {
     "output_type": "stream",
     "name": "stdout",
     "text": [
      "Is 2020 the year of  (303)\n├── > \"house dresses,\" i (284)\n│   ├── Oh, I didn't mean to (58)\n│   │   └── I agree that the sty (39)\n│   │       └── Yeah I used to feel  (14)\n│   └── How do you find the  (3)\n│       └── I got it in a clothi (1)\n├── I read it slightly o (89)\n│   ├── I actually went thro (15)\n│   │   ├── [deleted] (34)\n│   │   │   └── Yes, you're absolute (15)\n│   │   │       └── [deleted] (23)\n│   │   │           ├── Eff heels. Burn them (11)\n│   │   │           ├── I definitely think t (1)\n│   │   │           └── As a very tall woman (-2)\n│   │   │               └── [deleted] (3)\n│   │   │                   └── I'm in my 30s too an (2)\n│   │   │                       └── Super short girl her (2)\n│   │   └── Oh definitely not, b (1)\n│   └── Link to your dress?  (1)\n│       └── It was an h&m one. T (1)\n├── I don’t equate House (57)\n│   ├── Wish I could find a  (16)\n│   │   ├── [Brooks Brothers ](h (15)\n│   │   │   ├── If only the price wa (15)\n│   │   │   │   └── Right! I wait until  (1)\n│   │   │   ├── This was actually a  (5)\n│   │   │   └── Awesome, thank you! (3)\n│   │   ├── I have a couple like (10)\n│   │   │   └── Me too! Can’t wait t (3)\n│   │   │       └── Eshakti. (7)\n│   │   │           └── Thank you! (1)\n│   │   ├── I have something sim (4)\n│   │   │   └── If the ties don't se (2)\n│   │   ├── I bought denim aline (2)\n│   │   └── Boden has a bunch of (2)\n│   ├── Agreed. \n\nA house dr (12)\n│   └── Ah damn you just rem (7)\n│       └── Was it the [Walkaway (5)\n│           ├── I’ve got that patter (5)\n│           │   ├── That's smart! My mom (3)\n│           │   └── Smart of her to make (3)\n│           └── YES you're amazing (2)\n│               └── Thank you. Hehe. Thi (1)\n├── Costume historian he (49)\n│   ├── This is fascinating! (4)\n│   ├── This needs more upvo (4)\n│   └── Thanks for sharing t (2)\n├── This style was trend (46)\n├── [deleted] (37)\n│   ├── My mom was always ab (16)\n│   │   └── [deleted] (14)\n│   │       └── Funny, my family is  (9)\n│   └── Upvotes for housecoa (2)\n├── These kinds of dress (26)\n├── I recently bought an (11)\n│   └── Same, I read this ar (1)\n├── I think house dresse (11)\n│   └── I’d wear that at him (1)\n│       └── They are totally com (4)\n│           └── Same I want everythi (2)\n├── I’m a fan of the muu (10)\n├── I am currently IN a  (7)\n├── I think the “oversiz (7)\n├── It goes back a lot f (7)\n├── i love an all cotton (6)\n├── I have a few what I  (5)\n├── I received Cosmo mag (5)\n├── I just bought two dr (4)\n├── I actually think dre (4)\n├── Does anyone have sug (3)\n│   └── Sometimes picking so (1)\n├── I wear loose cotton  (3)\n├── I can’t quite work o (3)\n├── I totally started lo (3)\n├── To me, a home dress  (2)\n├── Not exactly house dr (2)\n├── I don’t want or need (2)\n├── I’ve always worn hou (1)\n├── I've been in a muumu (1)\n├── I have to say I boug (1)\n├── I almost exclusively (1)\n├── I have lived in legg (1)\n└── I did not buy house  (1)\n"
     ]
    }
   ],
   "source": [
    "# Visualising the unfiltered sorted tree \n",
    "for submission in data:\n",
    "     # Build tree for each submission\n",
    "    r = BuildTree(submission)\n",
    "    \n",
    "for pre, _, node in RenderTree(r):\n",
    "    print(\"%s%s (%s)\" % (pre, node.foo[0:20], node.weight or 0))\n"
   ]
  },
  {
   "cell_type": "code",
   "execution_count": 7,
   "metadata": {},
   "outputs": [],
   "source": [
    "# Build episode corresponding to N best-ranked conversations\n",
    "\n",
    "def BuildBestEpisodes(r, N):\n",
    "    # Scoring every leaf path\n",
    "    score_path_list = []\n",
    "    leaves = list(PreOrderIter(r, filter_=lambda node: node.is_leaf))\n",
    "    for leaf in leaves:\n",
    "        leaf_path = leaf.path\n",
    "        lenth_path = len(leaf_path)\n",
    "        score_path = 0\n",
    "        for node in leaf_path:\n",
    "            score_path = score_path + node.weight\n",
    "        score_path_list.append(score_path/lenth_path) # Leaf score = (sum of scores)/(length of conversation)\n",
    "    score_path_list\n",
    "\n",
    "    # Sorting every leaf path\n",
    "    ZipList = zip(score_path_list, (leaf.path for leaf in leaves))\n",
    "    leaf_path_sorted = [x for _, x in sorted(ZipList, key=lambda pair: pair[0], reverse=True)] # List of conversations, ordered using theirs scores\n",
    "    # leaf_path_sorted[1][2].foo[0:50] #path=1, node=2\n",
    "\n",
    "    # labeling first N paths\n",
    "    Npath_max = N\n",
    "    \n",
    "    submission_episode_texts = []\n",
    "    submission_episode_labels = []\n",
    "    submission_episode_dones = []\n",
    "    # leaf = leaf_path_sorted[0]\n",
    "    upper = min(Npath_max, len(leaf_path_sorted))\n",
    "    for leaf_path in leaf_path_sorted[0:upper]:\n",
    "        conversation = []\n",
    "        for nodes in leaf_path:\n",
    "            conversation.append(nodes.foo)\n",
    "\n",
    "        episode_text = conversation[::2]\n",
    "        episode_label = conversation[1::2]\n",
    "\n",
    "        if len(episode_text)>len(episode_label):\n",
    "            episode_label.append('')\n",
    "\n",
    "        episode_done = [False for k in range(len(episode_text))]\n",
    "        episode_done[-1] = True\n",
    "\n",
    "        submission_episode_texts.extend(episode_text)\n",
    "        submission_episode_labels.extend(episode_label)\n",
    "        submission_episode_dones.extend(episode_done)\n",
    "\n",
    "    # breakpoint()\n",
    "    return submission_episode_texts, submission_episode_labels, submission_episode_dones\n"
   ]
  },
  {
   "cell_type": "code",
   "execution_count": 8,
   "metadata": {},
   "outputs": [],
   "source": [
    "# Filtering Tree: trimming branches at invalid nodes\n",
    "\n",
    "def FilterTree(r):\n",
    "    r_filtered = r\n",
    "    for pre, _, node in RenderTree(r_filtered):\n",
    "        # Defining filtering rules\n",
    "        URL = re.findall('http[s]?://(?:[a-zA-Z]|[0-9]|[$-_@.&+]|[!*\\(\\), ]|(?:%[0-9a-fA-F][0-9a-fA-F]))+', node.foo)\n",
    "        # breakpoint()\n",
    "        Filters = (node.foo == '[deleted]' or len(node.foo)>2048 or len(node.foo)<5 or node.weight<0 or len(URL) >=1 or not(node.foo[0].isascii()))\n",
    "        node_weight = node.weight\n",
    "        if not(node.parent == None):\n",
    "            if Filters:\n",
    "                node.children = ()\n",
    "                node.foo = '[INVALID]'\n",
    "                node.weight = 0\n",
    "\n",
    "    return r_filtered"
   ]
  },
  {
   "cell_type": "code",
   "execution_count": 15,
   "metadata": {},
   "outputs": [
    {
     "output_type": "stream",
     "name": "stdout",
     "text": [
      "Texts for first episode:\n"
     ]
    },
    {
     "output_type": "execute_result",
     "data": {
      "text/plain": [
       "['How would you store sentimental clothing?',\n",
       " \"Thank you for sharing. I have some of my mom's clothes and I want to preserve it in good condition.\",\n",
       " 'How would you store sentimental clothing?',\n",
       " 'How would you store sentimental clothing?',\n",
       " 'How would you store sentimental clothing?',\n",
       " 'How would you store sentimental clothing?',\n",
       " 'How would you store sentimental clothing?',\n",
       " 'How would you store sentimental clothing?',\n",
       " 'How would you store sentimental clothing?',\n",
       " 'How would you store sentimental clothing?',\n",
       " 'I’m getting married this year so I’m curious. How? Isn’t plastic bad for storing wedding dresses (and basically most materials)? Can you vacuum seal in other material bags?',\n",
       " 'I got my wedding dress cleaned and preserved at the cleaners. Why shouldn’t I have done that?',\n",
       " 'How would you store sentimental clothing?',\n",
       " 'I’m getting married this year so I’m curious. How? Isn’t plastic bad for storing wedding dresses (and basically most materials)? Can you vacuum seal in other material bags?',\n",
       " 'Thank you for the tip! Honestly, I’m old and not super sentimental so I’ll probably just sell or donate it anyhow 😜']"
      ]
     },
     "metadata": {},
     "execution_count": 15
    }
   ],
   "source": [
    "# Building episode files\n",
    "\n",
    "episode_texts = []\n",
    "episode_labels = []\n",
    "episode_dones = []\n",
    "\n",
    "N = 10 # Number of best-ranked episodes taken for each submission\n",
    "\n",
    "C=0\n",
    "for submission in data:\n",
    "     # Build tree for each submission\n",
    "    r = BuildTree(submission)\n",
    "    # Filtering Tree\n",
    "    r_filtered = FilterTree(r)\n",
    "    # Extract N best-ranked episodes\n",
    "    submission_episode_texts, submission_episode_labels, submission_episode_dones = BuildBestEpisodes(r_filtered, N) \n",
    "    # breakpoint()\n",
    "\n",
    "    episode_texts.append(submission_episode_texts)\n",
    "    episode_labels.append(submission_episode_labels)\n",
    "    episode_dones.append(submission_episode_dones)\n",
    "    # C = C+1\n",
    "    # if C == 2:\n",
    "    #     breakpoint()\n",
    "\n",
    "print('Texts for first episode:')\n",
    "episode_texts[0]"
   ]
  },
  {
   "cell_type": "code",
   "execution_count": 16,
   "metadata": {},
   "outputs": [
    {
     "output_type": "stream",
     "name": "stdout",
     "text": [
      "Is 2020 the year of  (303)\n├── > \"house dresses,\" i (284)\n│   ├── Oh, I didn't mean to (58)\n│   │   └── I agree that the sty (39)\n│   │       └── Yeah I used to feel  (14)\n│   └── How do you find the  (3)\n│       └── I got it in a clothi (1)\n├── I read it slightly o (89)\n│   ├── I actually went thro (15)\n│   │   ├── [INVALID] (0)\n│   │   └── Oh definitely not, b (1)\n│   └── Link to your dress?  (1)\n│       └── [INVALID] (0)\n├── [INVALID] (0)\n├── [INVALID] (0)\n├── This style was trend (46)\n├── [INVALID] (0)\n├── These kinds of dress (26)\n├── I recently bought an (11)\n│   └── Same, I read this ar (1)\n├── [INVALID] (0)\n├── I’m a fan of the muu (10)\n├── I am currently IN a  (7)\n├── I think the “oversiz (7)\n├── It goes back a lot f (7)\n├── i love an all cotton (6)\n├── I have a few what I  (5)\n├── I received Cosmo mag (5)\n├── I just bought two dr (4)\n├── I actually think dre (4)\n├── Does anyone have sug (3)\n│   └── Sometimes picking so (1)\n├── I wear loose cotton  (3)\n├── I can’t quite work o (3)\n├── [INVALID] (0)\n├── To me, a home dress  (2)\n├── Not exactly house dr (2)\n├── I don’t want or need (2)\n├── I’ve always worn hou (1)\n├── I've been in a muumu (1)\n├── I have to say I boug (1)\n├── I almost exclusively (1)\n├── I have lived in legg (1)\n└── I did not buy house  (1)\n"
     ]
    }
   ],
   "source": [
    "# Visualising Filtered Tree\n",
    "\n",
    "r_filtered = FilterTree(r)\n",
    "for pre, _, node in RenderTree(r_filtered):\n",
    "    print(\"%s%s (%s)\" % (pre, node.foo[0:20], node.weight))\n"
   ]
  },
  {
   "cell_type": "code",
   "execution_count": 17,
   "metadata": {
    "tags": []
   },
   "outputs": [
    {
     "output_type": "stream",
     "name": "stdout",
     "text": [
      "Keeping 10 highest ranked episodes for each submission...\nNumber of episodes:\n6042\n"
     ]
    }
   ],
   "source": [
    "# Formating episode files into parlAI format\n",
    "import pandas as pd\n",
    "\n",
    "rows = pd.DataFrame()\n",
    "flat_texts = [item for sublist in episode_texts for item in sublist]\n",
    "flat_labels = [item for sublist in episode_labels for item in sublist]\n",
    "flat_dones = [item for sublist in episode_dones for item in sublist]\n",
    "\n",
    "rows['texts'] = flat_texts\n",
    "rows['labels'] = flat_labels\n",
    "rows['dones'] = flat_dones\n",
    "\n",
    "\n",
    "with open('FH_output_parlai.txt', 'w') as f:\n",
    "    for idx, row in rows.iterrows():\n",
    "        t = (\"text:{}\\tlabels:{}\").format(row['texts'].replace('\\n', ' '), row['labels'].replace('\\n', ' '))\n",
    "        if row['dones'] == True:\n",
    "            t = t + '\\tepisode_done:True\\n'\n",
    "        else:\n",
    "            t = t + '\\n'\n",
    "        f.write(\"%s\" % t)\n",
    "\n",
    "\n",
    "print('Keeping ' + str(N) + ' highest ranked episodes for each submission...')\n",
    "print('Number of episodes:')\n",
    "print(flat_dones.count(True))\n",
    "        "
   ]
  },
  {
   "cell_type": "code",
   "execution_count": null,
   "metadata": {},
   "outputs": [],
   "source": []
  }
 ],
 "metadata": {
  "kernelspec": {
   "display_name": "Python 3",
   "language": "python",
   "name": "python3"
  },
  "language_info": {
   "codemirror_mode": {
    "name": "ipython",
    "version": 3
   },
   "file_extension": ".py",
   "mimetype": "text/x-python",
   "name": "python",
   "nbconvert_exporter": "python",
   "pygments_lexer": "ipython3",
   "version": "3.7.6-final"
  }
 },
 "nbformat": 4,
 "nbformat_minor": 4
}