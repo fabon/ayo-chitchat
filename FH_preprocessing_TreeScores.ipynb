{
 "cells": [
  {
   "cell_type": "code",
   "execution_count": 41,
   "metadata": {},
   "outputs": [],
   "source": [
    "import json\n",
    "import numpy as np\n",
    "import pdb\n",
    "import re\n",
    "from anytree import NodeMixin, RenderTree, PreOrderIter\n",
    "\n",
    "DataSet = 'male'\n",
    "path = 'data_samples/reddit_' + DataSet + '.json'\n",
    "with open(path) as json_file:\n",
    "    data = json.load(json_file)\n"
   ]
  },
  {
   "cell_type": "code",
   "execution_count": 42,
   "metadata": {},
   "outputs": [],
   "source": [
    "# NodeMixin class: extends any python class to a tree node\n",
    "\n",
    "class WNode(NodeMixin):\n",
    "\n",
    "     def __init__(self, foo, weight, parent=None):\n",
    "         super(WNode, self).__init__()\n",
    "         self.foo = foo\n",
    "         self.parent = parent\n",
    "         self.weight = weight\n",
    "\n",
    "     def _post_detach(self, parent):\n",
    "         self.weight = 0\n"
   ]
  },
  {
   "cell_type": "code",
   "execution_count": 43,
   "metadata": {},
   "outputs": [],
   "source": [
    "# Recursive function to populate deeper reply levels\n",
    "\n",
    "def NextLevel(replies, node_reply):\n",
    "    if len(replies['replies'])>0:\n",
    "        # Sort replies2\n",
    "        score_list = []\n",
    "        for replies2 in replies['replies']:\n",
    "            score_list.append(replies2['score'])\n",
    "        ZipList = zip(score_list, replies['replies'])\n",
    "        replies_sorted = [x for _, x in sorted(ZipList, key=lambda pair: pair[0], reverse=True)] \n",
    "        # For each replies2 in sorted replies2\n",
    "        for replies2 in replies_sorted:\n",
    "            # Create node at replies-replies2\n",
    "            node_replies2 = WNode(replies2['body'], parent=node_reply, weight=replies2['score'])\n",
    "            # call NextLevel(replies2, node_replies2)\n",
    "            NextLevel(replies2, node_replies2)\n"
   ]
  },
  {
   "cell_type": "code",
   "execution_count": 44,
   "metadata": {},
   "outputs": [],
   "source": [
    "# Building ordered tree given a submission\n",
    "\n",
    "def BuildTree(submission):\n",
    "    title = submission['title']\n",
    "    r = WNode(title, submission['score'])\n",
    "\n",
    "    # Extracting Comments (Depth=0)\n",
    "    score_list = []\n",
    "    for comments in submission['comments']: # Ordering Comments\n",
    "        score_list.append(comments['score'])\n",
    "    ZipList = zip(score_list, submission['comments'])\n",
    "    comments_sorted = [x for _, x in sorted(ZipList, key=lambda pair: pair[0], reverse=True)] \n",
    "    # Test: Scaling Scores to Max\n",
    "    # if len(score_list)>0:\n",
    "    #     score_max = max(score_list)\n",
    "    # else:\n",
    "        # score_max = 1\n",
    "    # score_max = 1\n",
    "    \n",
    "    for comments in comments_sorted:  # Creating sorted Comment-Nodes\n",
    "        node_comment = WNode(comments['body'], parent=r, weight=comments['score'])\n",
    "\n",
    "        # Extracting replies (Depth=1)\n",
    "        score_list = []\n",
    "        for replies in comments['replies']:\n",
    "            score_list.append(replies['score'])\n",
    "        ZipList = zip(score_list, comments['replies'])\n",
    "        replies_sorted = [x for _, x in sorted(ZipList, key=lambda pair: pair[0], reverse=True)] \n",
    "\n",
    "        for replies in replies_sorted:  # Creating sorted Reply-Nodes\n",
    "            node_reply = WNode(replies['body'], parent=node_comment, weight=replies['score'])\n",
    "            NextLevel(replies, node_reply)\n",
    "        \n",
    "    # Returning ordered tree        \n",
    "    return r\n"
   ]
  },
  {
   "cell_type": "code",
   "execution_count": 45,
   "metadata": {},
   "outputs": [
    {
     "output_type": "stream",
     "name": "stdout",
     "text": [
      "WAYWT - October 19 (28)\n├── [from the fit battle (63)\n│   ├── this color scheme is (9)\n│   │   └── thanks mate 🙏 (1)\n│   ├── Great colour scheme! (2)\n│   │   └── Thanks! Yeah, they’r (1)\n│   └── Really like the colo (1)\n│       └── Thanks! The colour's (3)\n│           └── Thanks! I have a sim (1)\n│               └── I can’t recommend of (5)\n│                   └── Makes sense, I wear  (2)\n├── [Today](https://imgu (46)\n│   ├── that coat's great (8)\n│   ├── where the fuck are t (5)\n│   │   └── Can't remember the l (6)\n│   └── Do you have a link f (1)\n│       └── They don’t make this (3)\n├── [oops all autumn](ht (41)\n│   ├── The zipper removal l (3)\n│   ├── That mask/sweater co (1)\n│   └── Where did you get th (1)\n│       └── Got it from a vintag (2)\n├── [deleted] (34)\n│   ├── Fits #1 and #4 with  (7)\n│   ├── nothing but winners (6)\n│   ├── 3 is really really g (4)\n│   ├── 3, 4, and 6 are my f (2)\n│   └── all beautiful as alw (2)\n├── [Fit battle outtake] (32)\n│   ├── Another +1 for that  (7)\n│   │   └── Ty my man, it's so i (1)\n│   ├── This is great Sal! L (3)\n│   │   └── Thanks jer! Jokes on (1)\n│   │       └── That's wise purchasi (3)\n│   ├── incredible (2)\n│   │   └── Ty tdb! (1)\n│   ├── loooooooove that swe (1)\n│   │   └── Thanks! It's a very  (1)\n│   └── Really cool, love th (1)\n├── [big boots](https:// (30)\n│   ├── weird converse you g (5)\n│   │   └── Very happy with the  (3)\n│   │       └── Blunnies are the SHI (3)\n│   └── are you in the state (1)\n│       ├── [all season uniforms (3)\n│       └── American Wear (1)\n├── [Layering is back](h (28)\n│   ├── Yooo....\n\nYOOOOOOOOO (7)\n│   └── Jeri can I have a hu (3)\n│       └── You're confusing me, (2)\n├── Fits using the Navy  (28)\n│   ├── r/navyblazer b like  (4)\n│   │   ├── I'm actually curious (3)\n│   │   └── top of all time isn' (3)\n│   ├── Great, of course. I  (3)\n│   │   └── Thanks! It’s such a  (3)\n│   └── Love the looks and l (2)\n├── [Fit battle recyclop (26)\n│   ├── wow menswear is in a (7)\n│   │   ├── I couldn't pull off  (16)\n│   │   └── excuse me sir, r ur  (11)\n│   └── Love how it comes to (3)\n├── [when there's not en (26)\n│   ├── 10/10 would sleep on (7)\n│   ├── sleepwear is the new (6)\n│   └── Oh he cozy (5)\n├── [man-tle | casey cas (26)\n│   ├── Those drawers are 10 (4)\n│   ├── da pants (3)\n│   ├── the greens are a bea (1)\n│   │   └── everything is tailor (1)\n│   │       └── well aren’t you just (1)\n│   │           └── yes (1)\n│   └── i like the shoes w2c (1)\n│       └── Totem Brand Co. (1)\n├── [click here for fit] (26)\n│   ├── Thank you, your inst (10)\n│   ├── Thank you.  Your ins (8)\n│   │   └── Heading towards that (8)\n│   ├── What uniqlo jeans ar (6)\n│   │   └── Thanks! They’re the  (3)\n│   │       └── The U ones? Sorry fo (1)\n│   │           └── These are the mainli (1)\n│   │               └── What a whirlwind of  (2)\n│   └── I'm a simple person, (5)\n├── [Got to whip out the (24)\n│   ├── Love the jumper/jack (3)\n│   └── The shoes are just t (2)\n├── [my LOSER outfit](ht (23)\n│   ├── U speld \"looser\" ron (6)\n│   ├── I made another acct  (6)\n│   │   └── here i thought i los (2)\n│   │       └── At this size they're (2)\n│   ├── Your microcuff was m (4)\n│   │   └── microcuff for my mic (1)\n│   └── > i have a hard time (3)\n│       └── >when u know, u know (1)\n├── [Noah, EG, Camber, L (23)\n│   ├── How do you like the  (1)\n│   │   └── Theyre nice! The ins (1)\n│   │       └── You ever had any iss (1)\n│   │           └── I have had that prob (1)\n│   └── Hey man out of curio (1)\n│       └── So they are a nice b (2)\n│           └── Awesome! So if I oft (1)\n│               └── Depends on how you w (2)\n│                   └── Got it — but it soun (1)\n├── [got a little nuts w (22)\n├── [inside](https://img (22)\n│   ├── That jacket is such  (1)\n│   └── Very cool. How do yo (1)\n│       └── I like em enough. th (2)\n│           └── Thanks for this. Man (1)\n│               └── exactly, i like my w (2)\n├── [boy meets world ass (21)\n│   ├── Killer. Longer hair  (5)\n│   ├── 2 great lookin fits (3)\n│   ├── > boy meets world as (2)\n│   │   └── it's intentionally a (1)\n│   └── first pic for tinder (1)\n│       └── I would too (1)\n├── [Visiting my parents (20)\n│   └── Really nice texture/ (1)\n├── [Fit battle fit](htt (20)\n│   ├── Love the coordinatio (5)\n│   ├── I love this whole ou (2)\n│   └── Yesss awesome fit (2)\n├── [Yesterday](https:// (18)\n│   ├── Fantastic tie. (2)\n│   ├── Thrift fits >>> (1)\n│   └── Interesting tie! The (1)\n│       └── Thanks! The sleeve p (2)\n├── [Tired of the heat m (17)\n│   ├── The other SLP. Great (3)\n│   │   └── Haha thanks! I love  (2)\n│   ├── Super cool trousers  (3)\n│   │   └── Thank you! (1)\n│   └── The texture on every (2)\n│       └── Thanks man when it's (1)\n├── https://imgur.com/H0 (16)\n│   ├── I love that turtlene (1)\n│   │   └── Thank you. (1)\n│   └── Really awesome pants (1)\n├── [From the weekend.]( (14)\n│   └── Love the contrast th (2)\n├── Doing stripes today  (13)\n│   ├── Nice way to take som (2)\n│   │   └── Appreciate the feedb (2)\n│   └── Pants ID? (2)\n│       └── They are wrangler wr (1)\n│           └── 💛 (2)\n├── [Visvim, Real Mccoy' (11)\n│   ├── Personally I'd prefe (2)\n│   └── dig the shoes (1)\n├── [They celebrate to m (11)\n│   ├── oooooo I like dis\n\nT (3)\n│   │   └── Thanks! This one wou (2)\n│   │       └── Looking forward to t (2)\n│   └── Tbh kinda disappoint (2)\n│       └── This is actually a p (2)\n├── https://i.imgur.com/ (11)\n│   └── damn how many years  (1)\n│       └── bought them second h (1)\n├── I know, I need to cl (9)\n├── [making the most of  (9)\n├── First time sharing b (9)\n│   ├── Pant cuff skews the  (6)\n│   │   └── Hey thanks for the f (2)\n│   │       └── I promise you they a (3)\n│   │           └── Hmm that could defin (1)\n│   │               └── Feel free to shoot m (1)\n│   └── Nice fit! Great colo (4)\n│       └── Thank you! Yes I def (1)\n│           └── You could try a smal (1)\n├── https://imgur.com/a/ (9)\n├── [Parka Weather](http (8)\n│   ├── White shoes are a li (2)\n│   │   └── Thanks for the feedb (3)\n│   └── This is my ideal col (2)\n│       └── It's been a struggle (2)\n├── [Fit 1 - W O R L D S (7)\n│   └── I don't like the Dod (2)\n│       └── I hope the baseball  (1)\n│           └── Is this a thing wher (3)\n│               └── HAHAHAHA nah my room (3)\n├── put some outfits tog (7)\n│   └── Long coat gangggg\nWo (2)\n│       └── the MINUTE i get a t (3)\n├── [Toeing the casual e (6)\n│   ├── Tucking in the white (5)\n│   │   └── Appreciate the feedb (1)\n│   └── Shape and detailing  (3)\n│       └── That's great feedbac (2)\n├── [Keep it stupid simp (6)\n├── [Cableknits and elev (4)\n│   └── Classic. \n\nI think i (2)\n│       └── Thanks, and a good p (2)\n├── [clothes I got from  (3)\n├── [Comfy Fit ](https:/ (2)\n├── [deleted] (2)\n└── Black RL Jean jacket (-4)\n    └── ...i think you forgo (4)\n"
     ]
    }
   ],
   "source": [
    "# Visualising the unfiltered sorted tree \n",
    "for submission in data:\n",
    "     # Build tree for each submission\n",
    "    r = BuildTree(submission)\n",
    "    \n",
    "for pre, _, node in RenderTree(r):\n",
    "    print(\"%s%s (%s)\" % (pre, node.foo[0:20], node.weight or 0))\n"
   ]
  },
  {
   "cell_type": "code",
   "execution_count": 46,
   "metadata": {},
   "outputs": [],
   "source": [
    "# Build episode corresponding to N best-ranked conversations\n",
    "\n",
    "def BuildBestEpisodes(r, N):\n",
    "    # Scoring every leaf path\n",
    "    score_path_list = []\n",
    "    leaves = list(PreOrderIter(r, filter_=lambda node: node.is_leaf))\n",
    "    for leaf in leaves:\n",
    "        leaf_path = leaf.path\n",
    "        lenth_path = len(leaf_path)\n",
    "        score_path = 0\n",
    "        for node in leaf_path:\n",
    "            score_path = score_path + node.weight\n",
    "        score_path_list.append(score_path/lenth_path) # Leaf score = (sum of scores)/(length of conversation)\n",
    "    score_path_list\n",
    "\n",
    "    # Sorting every leaf path\n",
    "    ZipList = zip(score_path_list, (leaf.path for leaf in leaves))\n",
    "    leaf_path_sorted = [x for _, x in sorted(ZipList, key=lambda pair: pair[0], reverse=True)] # List of conversations, ordered using theirs scores\n",
    "    # leaf_path_sorted[1][2].foo[0:50] #path=1, node=2\n",
    "\n",
    "    # labeling first N paths\n",
    "    Npath_max = N\n",
    "    \n",
    "    submission_episode_texts = []\n",
    "    submission_episode_labels = []\n",
    "    submission_episode_dones = []\n",
    "    # leaf = leaf_path_sorted[0]\n",
    "    upper = min(Npath_max, len(leaf_path_sorted))\n",
    "    for leaf_path in leaf_path_sorted[0:upper]:\n",
    "        conversation = []\n",
    "        for nodes in leaf_path:\n",
    "            conversation.append(nodes.foo)\n",
    "\n",
    "        episode_text = conversation[::2]\n",
    "        episode_label = conversation[1::2]\n",
    "\n",
    "        if len(episode_text)>len(episode_label):\n",
    "            episode_label.append('')\n",
    "\n",
    "        episode_done = [False for k in range(len(episode_text))]\n",
    "        episode_done[-1] = True\n",
    "\n",
    "        submission_episode_texts.extend(episode_text)\n",
    "        submission_episode_labels.extend(episode_label)\n",
    "        submission_episode_dones.extend(episode_done)\n",
    "\n",
    "    # breakpoint()\n",
    "    return submission_episode_texts, submission_episode_labels, submission_episode_dones\n"
   ]
  },
  {
   "cell_type": "code",
   "execution_count": 47,
   "metadata": {},
   "outputs": [],
   "source": [
    "# Filtering Tree: trimming branches at invalid nodes\n",
    "\n",
    "def FilterTree(r):\n",
    "    r_filtered = r\n",
    "    for pre, _, node in RenderTree(r_filtered):\n",
    "        # Defining filtering rules\n",
    "        URL = re.findall('http[s]?://(?:[a-zA-Z]|[0-9]|[$-_@.&+]|[!*\\(\\), ]|(?:%[0-9a-fA-F][0-9a-fA-F]))+', node.foo)\n",
    "        # breakpoint()\n",
    "        Filters = (node.foo == '[deleted]' or len(node.foo)>2048 or len(node.foo)<5 or node.weight<0 or len(URL) >=1 or not(node.foo[0].isascii()))\n",
    "        node_weight = node.weight\n",
    "        if not(node.parent == None):\n",
    "            if Filters:\n",
    "                node.children = ()\n",
    "                node.foo = '[INVALID]'\n",
    "                node.weight = 0\n",
    "\n",
    "    return r_filtered"
   ]
  },
  {
   "cell_type": "code",
   "execution_count": 48,
   "metadata": {},
   "outputs": [
    {
     "output_type": "stream",
     "name": "stdout",
     "text": [
      "Texts for first episode:\n"
     ]
    },
    {
     "output_type": "execute_result",
     "data": {
      "text/plain": [
       "['Creating your own clothes: Advice?',\n",
       " 'Creating your own clothes: Advice?',\n",
       " 'Creating your own clothes: Advice?',\n",
       " 'Creating your own clothes: Advice?']"
      ]
     },
     "metadata": {},
     "execution_count": 48
    }
   ],
   "source": [
    "# Building episode files\n",
    "\n",
    "episode_texts = []\n",
    "episode_labels = []\n",
    "episode_dones = []\n",
    "\n",
    "N = 10 # Number of best-ranked episodes taken for each submission\n",
    "\n",
    "C=0\n",
    "for submission in data:\n",
    "     # Build tree for each submission\n",
    "    r = BuildTree(submission)\n",
    "    # Filtering Tree\n",
    "    r_filtered = FilterTree(r)\n",
    "    # Extract N best-ranked episodes\n",
    "    submission_episode_texts, submission_episode_labels, submission_episode_dones = BuildBestEpisodes(r_filtered, N) \n",
    "    # breakpoint()\n",
    "\n",
    "    episode_texts.append(submission_episode_texts)\n",
    "    episode_labels.append(submission_episode_labels)\n",
    "    episode_dones.append(submission_episode_dones)\n",
    "    # C = C+1\n",
    "    # if C == 2:\n",
    "    #     breakpoint()\n",
    "\n",
    "print('Texts for first episode:')\n",
    "episode_texts[0]"
   ]
  },
  {
   "cell_type": "code",
   "execution_count": 49,
   "metadata": {},
   "outputs": [
    {
     "output_type": "stream",
     "name": "stdout",
     "text": [
      "WAYWT - October 19 (28)\n├── [INVALID] (0)\n├── [INVALID] (0)\n├── [INVALID] (0)\n├── [INVALID] (0)\n├── [INVALID] (0)\n├── [INVALID] (0)\n├── [INVALID] (0)\n├── [INVALID] (0)\n├── [INVALID] (0)\n├── [INVALID] (0)\n├── [INVALID] (0)\n├── [INVALID] (0)\n├── [INVALID] (0)\n├── [INVALID] (0)\n├── [INVALID] (0)\n├── [INVALID] (0)\n├── [INVALID] (0)\n├── [INVALID] (0)\n├── [INVALID] (0)\n├── [INVALID] (0)\n├── [INVALID] (0)\n├── [INVALID] (0)\n├── [INVALID] (0)\n├── [INVALID] (0)\n├── [INVALID] (0)\n├── [INVALID] (0)\n├── [INVALID] (0)\n├── [INVALID] (0)\n├── [INVALID] (0)\n├── [INVALID] (0)\n├── [INVALID] (0)\n├── [INVALID] (0)\n├── [INVALID] (0)\n├── [INVALID] (0)\n├── [INVALID] (0)\n├── [INVALID] (0)\n├── [INVALID] (0)\n├── [INVALID] (0)\n├── [INVALID] (0)\n├── [INVALID] (0)\n├── [INVALID] (0)\n└── [INVALID] (0)\n"
     ]
    }
   ],
   "source": [
    "# Visualising Filtered Tree\n",
    "\n",
    "r_filtered = FilterTree(r)\n",
    "for pre, _, node in RenderTree(r_filtered):\n",
    "    print(\"%s%s (%s)\" % (pre, node.foo[0:20], node.weight))\n"
   ]
  },
  {
   "cell_type": "code",
   "execution_count": 50,
   "metadata": {
    "tags": []
   },
   "outputs": [
    {
     "output_type": "stream",
     "name": "stdout",
     "text": [
      "Keeping 10 highest ranked episodes for each submission...\nNumber of episodes:\n7048\n"
     ]
    }
   ],
   "source": [
    "# Formating episode files into parlAI format\n",
    "import pandas as pd\n",
    "\n",
    "rows = pd.DataFrame()\n",
    "flat_texts = [item for sublist in episode_texts for item in sublist]\n",
    "flat_labels = [item for sublist in episode_labels for item in sublist]\n",
    "flat_dones = [item for sublist in episode_dones for item in sublist]\n",
    "\n",
    "rows['texts'] = flat_texts\n",
    "rows['labels'] = flat_labels\n",
    "rows['dones'] = flat_dones\n",
    "\n",
    "NameFile = 'FH_output_parlai_' + DataSet + '.txt'\n",
    "with open(NameFile, 'w') as f:\n",
    "    for idx, row in rows.iterrows():\n",
    "        t = (\"text:{}\\tlabels:{}\").format(row['texts'].replace('\\n', ' '), row['labels'].replace('\\n', ' '))\n",
    "        if row['dones'] == True:\n",
    "            t = t + '\\tepisode_done:True\\n'\n",
    "        else:\n",
    "            t = t + '\\n'\n",
    "        f.write(\"%s\" % t)\n",
    "\n",
    "\n",
    "print('Keeping ' + str(N) + ' highest ranked episodes for each submission...')\n",
    "print('Number of episodes:')\n",
    "print(flat_dones.count(True))\n",
    "        "
   ]
  },
  {
   "cell_type": "code",
   "execution_count": null,
   "metadata": {},
   "outputs": [],
   "source": []
  }
 ],
 "metadata": {
  "kernelspec": {
   "display_name": "Python 3",
   "language": "python",
   "name": "python3"
  },
  "language_info": {
   "codemirror_mode": {
    "name": "ipython",
    "version": 3
   },
   "file_extension": ".py",
   "mimetype": "text/x-python",
   "name": "python",
   "nbconvert_exporter": "python",
   "pygments_lexer": "ipython3",
   "version": "3.7.6-final"
  }
 },
 "nbformat": 4,
 "nbformat_minor": 4
}