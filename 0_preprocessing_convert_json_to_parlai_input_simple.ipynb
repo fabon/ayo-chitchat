{
 "cells": [
  {
   "cell_type": "code",
   "execution_count": 1,
   "metadata": {},
   "outputs": [],
   "source": [
    "import json\n",
    "import numpy as np"
   ]
  },
  {
   "cell_type": "code",
   "execution_count": 2,
   "metadata": {},
   "outputs": [],
   "source": [
    "episode_texts = []\n",
    "episode_labels = []\n",
    "episode_dones = []\n",
    "\n",
    "with open('reddit_female.json') as json_file:\n",
    "    data = json.load(json_file)\n",
    "    for submission in data:\n",
    "        episode_text = []\n",
    "        episode_label = []\n",
    "        episode_done = []\n",
    "        \n",
    "        title = submission['title']\n",
    "        \n",
    "        for comment in submission['comments']:\n",
    "            comment_body = comment['body']\n",
    "            \n",
    "            if len(comment['replies']) == 0:\n",
    "                episode_text.append(title)\n",
    "                episode_label.append(comment_body)\n",
    "                episode_done.append(True)\n",
    "                \n",
    "            for reply in comment['replies']:\n",
    "                if len(reply['replies']) == 0:\n",
    "                    episode_text.append(title)\n",
    "                    episode_label.append(comment_body)\n",
    "                    episode_done.append(False)\n",
    "                    episode_text.append(reply['body'])\n",
    "                    episode_label.append('')\n",
    "                    episode_done.append(True)\n",
    "                for reply2 in reply['replies']:\n",
    "                    episode_text.append(title)\n",
    "                    episode_label.append(comment_body)\n",
    "                    episode_done.append(False)\n",
    "                    episode_text.append(reply['body'])\n",
    "                    episode_label.append(reply2['body'])\n",
    "                    episode_done.append(True)\n",
    "        episode_texts.append(episode_text)\n",
    "        episode_labels.append(episode_label)\n",
    "        episode_dones.append(episode_done)"
   ]
  },
  {
   "cell_type": "code",
   "execution_count": null,
   "metadata": {},
   "outputs": [],
   "source": []
  }
 ],
 "metadata": {
  "kernelspec": {
   "display_name": "Python 3",
   "language": "python",
   "name": "python3"
  },
  "language_info": {
   "codemirror_mode": {
    "name": "ipython",
    "version": 3
   },
   "file_extension": ".py",
   "mimetype": "text/x-python",
   "name": "python",
   "nbconvert_exporter": "python",
   "pygments_lexer": "ipython3",
   "version": "3.8.0"
  }
 },
 "nbformat": 4,
 "nbformat_minor": 4
}
